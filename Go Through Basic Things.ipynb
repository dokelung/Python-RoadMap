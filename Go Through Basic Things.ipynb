{
 "cells": [
  {
   "cell_type": "markdown",
   "metadata": {},
   "source": [
    "# Go Through Basic Things (dokelung @ 2017.09.26)"
   ]
  },
  {
   "cell_type": "markdown",
   "metadata": {},
   "source": [
    "* 運算\n",
    "* 變數\n",
    "* 資料型態\n",
    "* 撰寫多個變數\n",
    "* 封裝、參數化與函式\n",
    "* 類別與物件"
   ]
  },
  {
   "cell_type": "markdown",
   "metadata": {},
   "source": [
    "## 運算\n",
    "\n",
    "運算: `1+1`，是由兩個運算元所構成的:\n",
    "\n",
    "* 整數 `1`\n",
    "* 運算符 `+`\n",
    "\n",
    "所謂的 **運算元** 就是運算的對象，**運算符**是運算的動作，有了動作和對象的配合，我們能夠產出結果，也就是整數 `2`，我們要記得，任何 Python 的運算都是對運算元執行一些動作，並且產生結果(或是一個正式的名稱: **返回值 return value**)，我們可能會想要記下這個結果，或者將結果做為另一個運算的運算元。\n",
    "\n",
    "那要如何記下這個結果呢？ 我們使用**變數**:\n",
    "\n",
    "```python\n",
    ">>> result = 1+1\n",
    ">>> result\n",
    "2\n",
    ">>> result+2\n",
    "4\n",
    "```\n",
    "\n",
    "這裡，`result` 就是我們的變數，他可以記錄任何運算的結果，而等號 `=` 在 Python 中並非相等的意思，而是一種 **指派** 的動作，這會將等號右邊的值指派給左邊，`result = 1+1`的意思是將 1+1 的結果指派給 `result`，也就是讓 `result` 儲存 `2`，這種運算有個名稱: **賦值運算**。\n",
    "\n",
    "最後我們發現，利用這個結果可以再進行另一個運算 `result＋2`。"
   ]
  },
  {
   "cell_type": "code",
   "execution_count": null,
   "metadata": {},
   "outputs": [],
   "source": [
    "result = 1+1\n",
    "result+2"
   ]
  },
  {
   "cell_type": "markdown",
   "metadata": {},
   "source": [
    "## 變數\n",
    "\n",
    "在之前我們看到的變數，就好比一個容器，能夠儲存各式運算結果的值。但是變數的命名可不能馬虎，要遵從以下規則:\n",
    "\n",
    "1. 以底線或英文字母開頭字符\n",
    "2. 以底線,英文字母和數字為後續字符\n",
    "3. 不可與關鍵字(保留字)相同\n",
    "4. 大小寫有別\n",
    "\n",
    "第一點和第二點很好理解，而所謂 **關鍵字** 是指在 Python 語言中已經具有特殊意義的一些字，如果使用了這些字作為變數，會讓 Python 直譯器產生混淆，為了避免這種狀況，與關鍵字同名的變數名稱會被認定為不合法的名稱，並且強制出現錯誤。\n",
    "\n",
    "第四點告訴我們，Python 是 **case sensitive** (大小寫有別) 的，`result`和`Result`是兩個完全不同的單字。\n",
    "\n",
    "我們來看一些例子，以下都是合法的命名:\n",
    "\n",
    "```\n",
    "result\n",
    "_result\n",
    "result_2\n",
    "Result_2\n",
    "```\n",
    "\n",
    "而以下的變數命名是不合法的:\n",
    "\n",
    "```\n",
    "$result\n",
    "2_result\n",
    "for\n",
    "```\n",
    "\n",
    "不遵守規則的變數名稱就會看到錯誤:`SyntaxError: invalid syntax`。\n",
    "\n",
    "變數的命名除了硬性的規則還有軟性的建議 (又稱為慣例)，不過由於屬於細節，我們不在此敘述，但建議不了解的讀者可以多找些資料來了解。\n",
    "\n",
    "> Python 程式碼的風格或慣例可以找 [PEP8](https://www.python.org/dev/peps/pep-0008) 的文件來參考，什麼是 **PEP** 呢？ PEP 是 Python Enhancement Proposals 的簡稱，也就是 Python 改進提案。PEP 會蒐集 Python 社群中對於 Python 未來發展方向或是功能支援上的意見，為將來 Python 的新特性提出文件提案。重要的 PEP 有 PEP1 (說明了基礎的 PEP 概念)、PEP8 (Python 的程式碼風格與慣例指引)、PEP20 (知名的 Python 之禪) 等。"
   ]
  },
  {
   "cell_type": "code",
   "execution_count": null,
   "metadata": {},
   "outputs": [],
   "source": [
    "$result = 0"
   ]
  },
  {
   "cell_type": "markdown",
   "metadata": {},
   "source": [
    "## 資料型態\n",
    "\n",
    "我們回到最一開始的例子: `1+1`，我們說過，`1` 是運算的對象，而運算的對象會是一些資料，而資料會有他相應的形態，像是這個例子中的1就是 **整數** 的形態。\n",
    "\n",
    "幾乎所有的資料 (對象) 都有自己的形態，但 Python 中存在一個不具備任何型態的資料: `None`。\n",
    "`None` 就是，什麼都不是，什麼都沒有，跟其他語言中的 `null` 是差不多的意思。\n",
    "\n",
    "我們會在之後的章節介紹到其他重要的資料結構，包含浮點數、字串、清單、字典等。\n",
    "\n",
    "Python 中的每種資料型態都有自己的特徵 (也就是其字面表示法)，比如說浮點數(也就是小數)永遠會伴隨著小數點，清單的特徵是中括號`[]`，字典的特徵是大括號`{}`等，只要記住每種資料伴隨的特徵，我們可以很輕易地辨認他們或是使用他們。\n",
    "\n",
    "還有一點要注意的是，不同型態的資料都有他們可以配合的動作 (運算符)，我們可以整數進行減法，但可不能對字串(一些字符的序列)作減法。"
   ]
  },
  {
   "cell_type": "code",
   "execution_count": null,
   "metadata": {
    "collapsed": true
   },
   "outputs": [],
   "source": [
    "type(5)"
   ]
  },
  {
   "cell_type": "code",
   "execution_count": null,
   "metadata": {
    "collapsed": true
   },
   "outputs": [],
   "source": [
    "isinstance(5, int)"
   ]
  },
  {
   "cell_type": "markdown",
   "metadata": {},
   "source": [
    "## 撰寫多個運算\n",
    "\n",
    "我們常常會發現，要做的運算不只一個，我們需要若干個運算，依照一定的順序進行計算，但是在 Python shell 中一行一行的鍵入實在太花時間也太麻煩了，我們能不能一次寫完所有運算並一次執行呢？\n",
    "\n",
    "很簡單，便如同其他程式語言一樣，我們將多個運算依照順序擺放在一個檔案中，並且檔名以 `.py` 結尾 (這並非強迫性的，但是這是個好的慣例，讓大家都明白這個檔案是 Python 程式碼)，比如說我們寫了一個簡單的加法:\n",
    "\n",
    "```python\n",
    "# test.py\n",
    "\n",
    "a = 10\n",
    "b = 10\n",
    "result = a + b\n",
    "print(result) # result的結果是20\n",
    "```\n",
    "\n",
    "我們將這三個運算 (又稱敘述) 放置在`test.py`這個檔案中，接著我們只要在作業系統的 shell 上輸入:\n",
    "\n",
    "```sh\n",
    "$ python test.py\n",
    "20\n",
    "```\n",
    "\n",
    "就可以執行上述的多個運算囉！\n",
    "\n",
    "在這邊 `python` 是直譯器的名稱，也是你電腦上面執行 Python 的指令，後面緊跟著的是 python file 的名稱。\n",
    "\n",
    "注意到這邊使用了一個 `print` 函式，`print` 會將後面所列出的資料內容印出來，在這裡 `result` 的值在 `print` 的時候是 `20`，所以我們執行完該檔案之後，會看到畫面上印出了 `20`。\n",
    "\n",
    "`#` 號代表的是 **註解(commment)**，所謂的註解就是純粹給人看的一些說明，而這些說明完全會被 Python 給忽略掉，所以 `#` 號後面的內容將不會被執行，通常我們會對重要或者是需要抽象層次解說的程式碼下註解。\n",
    "\n",
    "> 接下來的範例碼，我們可以選擇使用 Python shell, jupyter notebook 來演示或是寫成一個 `.py` 檔來執行。"
   ]
  },
  {
   "cell_type": "code",
   "execution_count": null,
   "metadata": {
    "collapsed": true
   },
   "outputs": [],
   "source": [
    "# test.py\n",
    "# paste the code to a python file then execute it\n",
    "\n",
    "a = 10\n",
    "b = 10\n",
    "result = a + b\n",
    "print(result)"
   ]
  },
  {
   "cell_type": "markdown",
   "metadata": {},
   "source": [
    "## 封裝、參數化與函式\n",
    "\n",
    "有的時候，我們會重複地利用到一些常見的運算的組合，比如說我們考慮到計算五個整數的算數平均數:\n",
    "\n",
    "```python\n",
    "result = (1+2+3+4+5)/5 # 符號 \"/\" 在 Python 裡面是 \"除以\" 的意思\n",
    "```\n",
    "\n",
    "當我們需要知道另外一組時，又要撰寫一次:\n",
    "\n",
    "```python\n",
    "result = (1+1+1+1+1)/5\n",
    "```\n",
    "\n",
    "這樣不但沒效率，且在運算更複雜的時候會更令人心煩。\n",
    "\n",
    "我們可以透過 **封裝** 的方式，將這些運算包裝起來，並且進行 **參數化**，使其成為一個可重複利用的函式:\n",
    "\n",
    "```python\n",
    "result = avg(1,2,3,4,5)\n",
    "result_2 = avg(1,1,1,1,1)\n",
    "```\n",
    "\n",
    "我們不再實際地撰寫這些運算，而是去呼叫包裝好的函式:\n",
    "\n",
    "```python\n",
    "函式名稱(參數1,參數2,...)\n",
    "```\n",
    "\n",
    "透過 **函式名稱** 加上一個帶有參數的小括號，我們便能 **呼叫** 函式幫我們執行這些包裝好的運算，當然我們需要一些運算的材料，那就是我們稱之為 **參數** 的東西了。參數的數量視需要而定，也可以完全不需要參數，但是無論有沒有參數，呼叫函式時小括號總是要伴隨著函式名稱出現才行。\n",
    "\n",
    "Python 中有需多內建好的函式，稱之為 **built-in function (內建函式)**。\n",
    "\n",
    "比如我們可以用內建函式 `abs` 來計算絕對值:\n",
    "\n",
    "```python\n",
    ">>> abs(-10)\n",
    "10\n",
    ">>> abs(2)\n",
    "2\n",
    "```\n",
    "\n",
    "然而我們也可以自己包裝設計函式，不過那留到稍後一點在說明了。"
   ]
  },
  {
   "cell_type": "code",
   "execution_count": 2,
   "metadata": {},
   "outputs": [
    {
     "data": {
      "text/plain": [
       "10"
      ]
     },
     "execution_count": 2,
     "metadata": {},
     "output_type": "execute_result"
    }
   ],
   "source": [
    "abs(-10)"
   ]
  },
  {
   "cell_type": "markdown",
   "metadata": {},
   "source": [
    "## 類別與物件\n",
    "\n",
    "還記得剛剛講的資料型態嗎，其實每一種型態就是一種 **類別 (class)**，比如說整數一種資料型態，也是一種類別，而一個類別的實際的例子，稱為 **實例 (instance)**，又稱 **物件 (object)**。\n",
    "\n",
    "比如說 `100` 就是整數類別的實例，我們也稱它是物件。\n",
    "\n",
    "其實一種類別是 **資料跟運算的集合體**，就像整數包含了本身的數值跟加法減法等運算一樣，我們稱資料的本體為類別或物件的 **屬性(attribute)**，而屬於該類別的運算 (通常包裝成函式) 稱之為 **方法 (method)**。\n",
    "\n",
    "我們舉個簡單的例子:\n",
    "\n",
    "假設我們有一個類別叫做 `Cat`，`my_cat` 是 `Cat` 的實例，我們可以如此使用:\n",
    "\n",
    "```python\n",
    ">>> my_cat.name\n",
    "'Kity'\n",
    ">>> my_cat.shout()\n",
    "Meow\n",
    "```\n",
    "\n",
    "我們利用點 `.` 來取得一個類別實例 (物件) 的屬性或是呼叫他的方法 (函式)，`my_cat.name` 會取得這隻貓的名字，而 `my_cat.shout()` 讓這隻貓執行 \"叫\" 這個動作而發出 `'Meow'` 的聲音。\n",
    "\n",
    "就跟函數一樣，除了內建的幾種類別之外，我們也能夠自定自己的類別 (像是剛剛的 `Cat` 就是作者自定的)，自定的方法我們一樣留到後面統一來談，現在只要知道如何取得屬性跟呼叫方法即可。"
   ]
  },
  {
   "cell_type": "code",
   "execution_count": 5,
   "metadata": {},
   "outputs": [],
   "source": [
    "class Cat:\n",
    "    def __init__(self, name):\n",
    "        self.name = name \n",
    "    def shout(self):\n",
    "        print('Meow')\n",
    "        \n",
    "my_cat = Cat('Kitty')"
   ]
  },
  {
   "cell_type": "code",
   "execution_count": 7,
   "metadata": {},
   "outputs": [
    {
     "name": "stdout",
     "output_type": "stream",
     "text": [
      "Kitty\n",
      "Meow\n"
     ]
    }
   ],
   "source": [
    "print(my_cat.name)\n",
    "my_cat.shout()"
   ]
  }
 ],
 "metadata": {
  "kernelspec": {
   "display_name": "Python 3",
   "language": "python",
   "name": "python3"
  },
  "language_info": {
   "codemirror_mode": {
    "name": "ipython",
    "version": 3
   },
   "file_extension": ".py",
   "mimetype": "text/x-python",
   "name": "python",
   "nbconvert_exporter": "python",
   "pygments_lexer": "ipython3",
   "version": "3.6.1"
  }
 },
 "nbformat": 4,
 "nbformat_minor": 2
}
