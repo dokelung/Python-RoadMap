{
 "cells": [
  {
   "cell_type": "markdown",
   "metadata": {},
   "source": [
    "# Solving Problem and Programming (Arton Chang @ 2017.09.26)"
   ]
  },
  {
   "cell_type": "markdown",
   "metadata": {},
   "source": [
    "* Ex: Calculate the average of several numbers\n",
    "* Ex: Judge whether x is a prime\n",
    "* Ex: Count the number of each letter in an English article\n",
    "* Ex: Part of \"master mind\" - guess 1234 for answer 1357"
   ]
  },
  {
   "cell_type": "markdown",
   "metadata": {},
   "source": [
    "## Ex: Calculate the average of several numbers\n",
    "* Let *sum* be the variable to accumate the numbers.\n",
    "* Let *count* be the variable to store the count we process so far.\n",
    "* Read each number one by one\n",
    "  * increase the sum by the number\n",
    "  * increase count by 1\n",
    "* Finally, the average is sum/count\n"
   ]
  },
  {
   "cell_type": "markdown",
   "metadata": {},
   "source": [
    "## Ex: Is x a prime\n",
    "\n",
    "* If x is less then 2, it is not a prime.\n",
    "* If x is 2, it is a prime.\n",
    "* If x is divided by any interger from 2 ~ x-1, it is not a prime.\n",
    "* It is a prime."
   ]
  },
  {
   "cell_type": "code",
   "execution_count": 3,
   "metadata": {
    "collapsed": true
   },
   "outputs": [],
   "source": [
    "def is_prime(x):\n",
    "    if x < 2:\n",
    "        return False\n",
    "    if x == 2:\n",
    "        return True\n",
    "    for i in range(2,x): # range(a,b) means [a,b)\n",
    "        if x % i == 0:\n",
    "            return False\n",
    "    return True"
   ]
  },
  {
   "cell_type": "code",
   "execution_count": 4,
   "metadata": {},
   "outputs": [
    {
     "data": {
      "text/plain": [
       "True"
      ]
     },
     "execution_count": 4,
     "metadata": {},
     "output_type": "execute_result"
    }
   ],
   "source": [
    "is_prime(5)"
   ]
  },
  {
   "cell_type": "markdown",
   "metadata": {},
   "source": [
    "## Ex: Count the number of each letter in an English article.\n",
    "* Let a, b, c, ..., x, y, z be the variable which are used to stored the count of each letter.\n",
    "* Read each charactor from the article one by one:\n",
    "    * If the charactor is not an English letter, just skip it\n",
    "    * else increase the value of the corresponding variable by 1."
   ]
  },
  {
   "cell_type": "markdown",
   "metadata": {},
   "source": [
    "## Ex: Part of \"master mind\" - guess 1234 for answer 1357\n",
    "\n",
    "```python\n",
    "for each digit d in the guessing number(1234 in this example):\n",
    "    compare the digit in the same position in the answer with d\n",
    "    if it is the same\n",
    "        get 1 A\n",
    "    else\n",
    "        compare the digit in the different 3 positions in the answer with d\n",
    "        if any one is the same\n",
    "            get 1 B\n",
    "```"
   ]
  }
 ],
 "metadata": {
  "kernelspec": {
   "display_name": "Python 3",
   "language": "python",
   "name": "python3"
  },
  "language_info": {
   "codemirror_mode": {
    "name": "ipython",
    "version": 3
   },
   "file_extension": ".py",
   "mimetype": "text/x-python",
   "name": "python",
   "nbconvert_exporter": "python",
   "pygments_lexer": "ipython3",
   "version": "3.6.1"
  }
 },
 "nbformat": 4,
 "nbformat_minor": 2
}
